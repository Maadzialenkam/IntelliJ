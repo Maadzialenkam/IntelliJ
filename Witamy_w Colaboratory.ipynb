{
  "cells": [
    {
      "cell_type": "markdown",
      "metadata": {
        "id": "view-in-github",
        "colab_type": "text"
      },
      "source": [
        "<a href=\"https://colab.research.google.com/github/Maadzialenkam/IntelliJ/blob/master/Witamy_w%C2%A0Colaboratory.ipynb\" target=\"_parent\"><img src=\"https://colab.research.google.com/assets/colab-badge.svg\" alt=\"Open In Colab\"/></a>"
      ]
    },
    {
      "cell_type": "code",
      "source": [
        "start = input (\"Czy chesz zacząć? TAK/NIE \")\n",
        "\n",
        "while (start == \"TAK\" ):\n",
        "\n",
        "  a= int(input(\"Podaj liczbę a: \"))\n",
        "  b= int(input(\"Podaj liczbę b: \"))\n",
        "\n",
        "  print (\"MENU\")\n",
        "  print(\"1.Addition\")\n",
        "  print(\"2.Subtration\")\n",
        "  print(\"3.Multiplication\")\n",
        "  print(\"4.Divisio\")\n",
        "  choice = input (\"Podaj numer działania z menu, którego checesz użyć: \")\n",
        "\n",
        "  if choice == \"1\":\n",
        "    result = (a+b)\n",
        "    print (a+b)\n",
        "\n",
        "  if choice == \"2\":\n",
        "    result = (a-b)\n",
        "    print (a-b)\n",
        "\n",
        "  if choice == \"3\":\n",
        "    result = (a*b)\n",
        "    print (a*b)\n",
        "\n",
        "  if choice == \"4\":\n",
        "    if b != 0:\n",
        "      result = (a/b)\n",
        "      print (a/b)      \n",
        "    else:  \n",
        "      print (\"Mianownik musi być różny od zera!!!\")\n",
        "\n",
        "  start = input(\"Czy chesz kontunuować? \")     \n",
        "  if start == \"NIE\":\n",
        "    break\n",
        "  if start == \"TAK\":\n",
        "    continue  "
      ],
      "metadata": {
        "colab": {
          "base_uri": "https://localhost:8080/"
        },
        "id": "Pnod9aG4mrhX",
        "outputId": "21523767-24a4-4464-be15-fb8a7190a9e3"
      },
      "execution_count": 16,
      "outputs": [
        {
          "name": "stdout",
          "output_type": "stream",
          "text": [
            "Czy chesz zacząć? TAK/NIE TAK\n",
            "Podaj liczbę a: 1\n",
            "Podaj liczbę b: 2\n",
            "MENU\n",
            "1.Addition\n",
            "2.Subtration\n",
            "3.Multiplication\n",
            "4.Divisio\n",
            "Podaj numer działania z menu, którego checesz użyć: 1\n",
            "3\n",
            "Czy chesz kontunuować? TAK\n",
            "Podaj liczbę a: 2\n",
            "Podaj liczbę b: 8\n",
            "MENU\n",
            "1.Addition\n",
            "2.Subtration\n",
            "3.Multiplication\n",
            "4.Divisio\n",
            "Podaj numer działania z menu, którego checesz użyć: 4\n",
            "0.25\n",
            "Czy chesz kontunuować? NIE\n"
          ]
        }
      ]
    }
  ],
  "metadata": {
    "colab": {
      "name": "Witamy w Colaboratory",
      "toc_visible": true,
      "provenance": [],
      "include_colab_link": true
    },
    "kernelspec": {
      "display_name": "Python 3",
      "name": "python3"
    }
  },
  "nbformat": 4,
  "nbformat_minor": 0
}